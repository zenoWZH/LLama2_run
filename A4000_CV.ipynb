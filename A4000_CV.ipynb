{
 "cells": [
  {
   "cell_type": "code",
   "execution_count": 1,
   "metadata": {},
   "outputs": [],
   "source": [
    "import os\n",
    "import tqdm\n",
    "os.chdir(\"/home/YiVal_test/\")"
   ]
  },
  {
   "cell_type": "code",
   "execution_count": 11,
   "metadata": {},
   "outputs": [
    {
     "name": "stdout",
     "output_type": "stream",
     "text": [
      "fatal: destination path 'stylegan3' already exists and is not an empty directory.\n"
     ]
    },
    {
     "name": "stdout",
     "output_type": "stream",
     "text": [
      "Cloning into 'metfaces-dataset'...\n",
      "remote: Enumerating objects: 14, done.\u001b[K\n",
      "remote: Counting objects: 100% (14/14), done.\u001b[K\n",
      "remote: Compressing objects: 100% (10/10), done.\u001b[K\n",
      "remote: Total 14 (delta 5), reused 12 (delta 3), pack-reused 0\u001b[K\n",
      "Unpacking objects: 100% (14/14), 623.34 KiB | 5.28 MiB/s, done.\n"
     ]
    }
   ],
   "source": [
    "! git clone https://github.com/NVlabs/stylegan3.git\n",
    "! git clone https://github.com/NVlabs/metfaces-dataset.git"
   ]
  },
  {
   "cell_type": "code",
   "execution_count": 3,
   "metadata": {},
   "outputs": [
    {
     "name": "stdout",
     "output_type": "stream",
     "text": [
      "Python 3.10.13\n"
     ]
    },
    {
     "name": "stdout",
     "output_type": "stream",
     "text": [
      "pip 23.3.1 from /home/YiVal_test/.cache/pypoetry/virtualenvs/yival-0EQAwXAc-py3.10/lib/python3.10/site-packages/pip (python 3.10)\n"
     ]
    }
   ],
   "source": [
    "! python -V\n",
    "! pip -V"
   ]
  },
  {
   "cell_type": "code",
   "execution_count": 4,
   "metadata": {},
   "outputs": [
    {
     "name": "stdout",
     "output_type": "stream",
     "text": [
      "\n",
      "\u001b[1m[\u001b[0m\u001b[34;49mnotice\u001b[0m\u001b[1;39;49m]\u001b[0m\u001b[39;49m A new release of pip is available: \u001b[0m\u001b[31;49m23.3.1\u001b[0m\u001b[39;49m -> \u001b[0m\u001b[32;49m23.3.2\u001b[0m\n",
      "\u001b[1m[\u001b[0m\u001b[34;49mnotice\u001b[0m\u001b[1;39;49m]\u001b[0m\u001b[39;49m To update, run: \u001b[0m\u001b[32;49mpip install --upgrade pip\u001b[0m\n"
     ]
    }
   ],
   "source": [
    "! pip install -q accelerate==0.21.0 peft==0.4.0 bitsandbytes==0.40.2 transformers==4.33.0 trl==0.4.7 scipy tensorboard tensorboardX tqdm ipywidgets bitsandbytes-cuda117 sentencepiece"
   ]
  },
  {
   "cell_type": "code",
   "execution_count": 5,
   "metadata": {},
   "outputs": [
    {
     "name": "stdout",
     "output_type": "stream",
     "text": [
      "\n",
      "\u001b[1m[\u001b[0m\u001b[34;49mnotice\u001b[0m\u001b[1;39;49m]\u001b[0m\u001b[39;49m A new release of pip is available: \u001b[0m\u001b[31;49m23.3.1\u001b[0m\u001b[39;49m -> \u001b[0m\u001b[32;49m23.3.2\u001b[0m\n",
      "\u001b[1m[\u001b[0m\u001b[34;49mnotice\u001b[0m\u001b[1;39;49m]\u001b[0m\u001b[39;49m To update, run: \u001b[0m\u001b[32;49mpip install --upgrade pip\u001b[0m\n"
     ]
    }
   ],
   "source": [
    "! pip install -q click Pillow gdown Ninja torch torchvision torchaudio"
   ]
  },
  {
   "cell_type": "code",
   "execution_count": 6,
   "metadata": {},
   "outputs": [
    {
     "name": "stdout",
     "output_type": "stream",
     "text": [
      "Looking in indexes: https://download.pytorch.org/whl/cu118, https://pypi.ngc.nvidia.com\n",
      "Requirement already satisfied: torch in /home/YiVal_test/.cache/pypoetry/virtualenvs/yival-0EQAwXAc-py3.10/lib/python3.10/site-packages (2.1.2)\n",
      "Requirement already satisfied: torchvision in /home/YiVal_test/.cache/pypoetry/virtualenvs/yival-0EQAwXAc-py3.10/lib/python3.10/site-packages (0.16.2)\n",
      "Requirement already satisfied: torchaudio in /home/YiVal_test/.cache/pypoetry/virtualenvs/yival-0EQAwXAc-py3.10/lib/python3.10/site-packages (2.1.2)\n",
      "Requirement already satisfied: filelock in /home/YiVal_test/.cache/pypoetry/virtualenvs/yival-0EQAwXAc-py3.10/lib/python3.10/site-packages (from torch) (3.12.4)\n",
      "Requirement already satisfied: typing-extensions in /home/YiVal_test/.cache/pypoetry/virtualenvs/yival-0EQAwXAc-py3.10/lib/python3.10/site-packages (from torch) (4.8.0)\n",
      "Requirement already satisfied: sympy in /home/YiVal_test/.cache/pypoetry/virtualenvs/yival-0EQAwXAc-py3.10/lib/python3.10/site-packages (from torch) (1.12)\n",
      "Requirement already satisfied: networkx in /home/YiVal_test/.cache/pypoetry/virtualenvs/yival-0EQAwXAc-py3.10/lib/python3.10/site-packages (from torch) (3.1)\n",
      "Requirement already satisfied: jinja2 in /home/YiVal_test/.cache/pypoetry/virtualenvs/yival-0EQAwXAc-py3.10/lib/python3.10/site-packages (from torch) (3.1.2)\n",
      "Requirement already satisfied: fsspec in /home/YiVal_test/.cache/pypoetry/virtualenvs/yival-0EQAwXAc-py3.10/lib/python3.10/site-packages (from torch) (2023.6.0)\n",
      "Requirement already satisfied: nvidia-cuda-nvrtc-cu12==12.1.105 in /home/YiVal_test/.cache/pypoetry/virtualenvs/yival-0EQAwXAc-py3.10/lib/python3.10/site-packages (from torch) (12.1.105)\n",
      "Requirement already satisfied: nvidia-cuda-runtime-cu12==12.1.105 in /home/YiVal_test/.cache/pypoetry/virtualenvs/yival-0EQAwXAc-py3.10/lib/python3.10/site-packages (from torch) (12.1.105)\n",
      "Requirement already satisfied: nvidia-cuda-cupti-cu12==12.1.105 in /home/YiVal_test/.cache/pypoetry/virtualenvs/yival-0EQAwXAc-py3.10/lib/python3.10/site-packages (from torch) (12.1.105)\n",
      "Requirement already satisfied: nvidia-cudnn-cu12==8.9.2.26 in /home/YiVal_test/.cache/pypoetry/virtualenvs/yival-0EQAwXAc-py3.10/lib/python3.10/site-packages (from torch) (8.9.2.26)\n",
      "Requirement already satisfied: nvidia-cublas-cu12==12.1.3.1 in /home/YiVal_test/.cache/pypoetry/virtualenvs/yival-0EQAwXAc-py3.10/lib/python3.10/site-packages (from torch) (12.1.3.1)\n",
      "Requirement already satisfied: nvidia-cufft-cu12==11.0.2.54 in /home/YiVal_test/.cache/pypoetry/virtualenvs/yival-0EQAwXAc-py3.10/lib/python3.10/site-packages (from torch) (11.0.2.54)\n",
      "Requirement already satisfied: nvidia-curand-cu12==10.3.2.106 in /home/YiVal_test/.cache/pypoetry/virtualenvs/yival-0EQAwXAc-py3.10/lib/python3.10/site-packages (from torch) (10.3.2.106)\n",
      "Requirement already satisfied: nvidia-cusolver-cu12==11.4.5.107 in /home/YiVal_test/.cache/pypoetry/virtualenvs/yival-0EQAwXAc-py3.10/lib/python3.10/site-packages (from torch) (11.4.5.107)\n",
      "Requirement already satisfied: nvidia-cusparse-cu12==12.1.0.106 in /home/YiVal_test/.cache/pypoetry/virtualenvs/yival-0EQAwXAc-py3.10/lib/python3.10/site-packages (from torch) (12.1.0.106)\n",
      "Requirement already satisfied: nvidia-nccl-cu12==2.18.1 in /home/YiVal_test/.cache/pypoetry/virtualenvs/yival-0EQAwXAc-py3.10/lib/python3.10/site-packages (from torch) (2.18.1)\n",
      "Requirement already satisfied: nvidia-nvtx-cu12==12.1.105 in /home/YiVal_test/.cache/pypoetry/virtualenvs/yival-0EQAwXAc-py3.10/lib/python3.10/site-packages (from torch) (12.1.105)\n",
      "Requirement already satisfied: triton==2.1.0 in /home/YiVal_test/.cache/pypoetry/virtualenvs/yival-0EQAwXAc-py3.10/lib/python3.10/site-packages (from torch) (2.1.0)\n",
      "Requirement already satisfied: nvidia-nvjitlink-cu12 in /home/YiVal_test/.cache/pypoetry/virtualenvs/yival-0EQAwXAc-py3.10/lib/python3.10/site-packages (from nvidia-cusolver-cu12==11.4.5.107->torch) (12.3.101)\n",
      "Requirement already satisfied: numpy in /home/YiVal_test/.cache/pypoetry/virtualenvs/yival-0EQAwXAc-py3.10/lib/python3.10/site-packages (from torchvision) (1.26.0)\n",
      "Requirement already satisfied: requests in /home/YiVal_test/.cache/pypoetry/virtualenvs/yival-0EQAwXAc-py3.10/lib/python3.10/site-packages (from torchvision) (2.31.0)\n",
      "Requirement already satisfied: pillow!=8.3.*,>=5.3.0 in /home/YiVal_test/.cache/pypoetry/virtualenvs/yival-0EQAwXAc-py3.10/lib/python3.10/site-packages (from torchvision) (9.4.0)\n",
      "Requirement already satisfied: MarkupSafe>=2.0 in /home/YiVal_test/.cache/pypoetry/virtualenvs/yival-0EQAwXAc-py3.10/lib/python3.10/site-packages (from jinja2->torch) (2.1.3)\n",
      "Requirement already satisfied: charset-normalizer<4,>=2 in /home/YiVal_test/.cache/pypoetry/virtualenvs/yival-0EQAwXAc-py3.10/lib/python3.10/site-packages (from requests->torchvision) (3.3.0)\n",
      "Requirement already satisfied: idna<4,>=2.5 in /home/YiVal_test/.cache/pypoetry/virtualenvs/yival-0EQAwXAc-py3.10/lib/python3.10/site-packages (from requests->torchvision) (3.4)\n",
      "Requirement already satisfied: urllib3<3,>=1.21.1 in /home/YiVal_test/.cache/pypoetry/virtualenvs/yival-0EQAwXAc-py3.10/lib/python3.10/site-packages (from requests->torchvision) (2.0.6)\n",
      "Requirement already satisfied: certifi>=2017.4.17 in /home/YiVal_test/.cache/pypoetry/virtualenvs/yival-0EQAwXAc-py3.10/lib/python3.10/site-packages (from requests->torchvision) (2023.7.22)\n",
      "Requirement already satisfied: mpmath>=0.19 in /home/YiVal_test/.cache/pypoetry/virtualenvs/yival-0EQAwXAc-py3.10/lib/python3.10/site-packages (from sympy->torch) (1.3.0)\n"
     ]
    }
   ],
   "source": [
    "! pip install torch torchvision torchaudio --index-url https://download.pytorch.org/whl/cu118"
   ]
  },
  {
   "cell_type": "code",
   "execution_count": 12,
   "metadata": {},
   "outputs": [
    {
     "name": "stdout",
     "output_type": "stream",
     "text": [
      "  0%|                                                  | 0/1336 [00:00<?, ?it/s]/home/YiVal_test/metfaces-dataset/metfaces.py:126: DeprecationWarning: ANTIALIAS is deprecated and will be removed in Pillow 10 (2023-07-01). Use LANCZOS or Resampling.LANCZOS instead.\n",
      "  img = img.resize((target_size, target_size), PIL.Image.ANTIALIAS)\n",
      "100%|███████████████████████████████████████| 1336/1336 [28:07<00:00,  1.26s/it]\n"
     ]
    }
   ],
   "source": [
    "! python /home/YiVal_test/metfaces-dataset/metfaces.py --json /share/data_shared/metfaces-release/metfaces-dataset.json --source-images /share/data_shared/metfaces-release \\\n",
    "    --random-shift=0.2 --retry-crops --no-rotation \\\n",
    "    --output-dir /home/YiVal_test/metfacesu"
   ]
  },
  {
   "cell_type": "code",
   "execution_count": 2,
   "metadata": {},
   "outputs": [],
   "source": [
    "os.chdir(\"/home/YiVal_test/stylegan3/\")\n",
    "#! export 'PYTORCH_CUDA_ALLOC_CONF=max_split_size_mb:256'\n",
    "os.environ[\"PYTORCH_CUDA_ALLOC_CONF\"] = \"max_split_size_mb:128\""
   ]
  },
  {
   "cell_type": "code",
   "execution_count": 5,
   "metadata": {},
   "outputs": [
    {
     "name": "stdout",
     "output_type": "stream",
     "text": [
      "\n",
      "Training options:\n",
      "{\n",
      "  \"G_kwargs\": {\n",
      "    \"class_name\": \"training.networks_stylegan3.Generator\",\n",
      "    \"z_dim\": 512,\n",
      "    \"w_dim\": 512,\n",
      "    \"mapping_kwargs\": {\n",
      "      \"num_layers\": 2\n",
      "    },\n",
      "    \"channel_base\": 65536,\n",
      "    \"channel_max\": 1024,\n",
      "    \"magnitude_ema_beta\": 0.9988915792636801,\n",
      "    \"conv_kernel\": 1,\n",
      "    \"use_radial_filters\": true\n",
      "  },\n",
      "  \"D_kwargs\": {\n",
      "    \"class_name\": \"training.networks_stylegan2.Discriminator\",\n",
      "    \"block_kwargs\": {\n",
      "      \"freeze_layers\": 0\n",
      "    },\n",
      "    \"mapping_kwargs\": {},\n",
      "    \"epilogue_kwargs\": {\n",
      "      \"mbstd_group_size\": 4\n",
      "    },\n",
      "    \"channel_base\": 32768,\n",
      "    \"channel_max\": 512\n",
      "  },\n",
      "  \"G_opt_kwargs\": {\n",
      "    \"class_name\": \"torch.optim.Adam\",\n",
      "    \"betas\": [\n",
      "      0,\n",
      "      0.99\n",
      "    ],\n",
      "    \"eps\": 1e-08,\n",
      "    \"lr\": 0.0025\n",
      "  },\n",
      "  \"D_opt_kwargs\": {\n",
      "    \"class_name\": \"torch.optim.Adam\",\n",
      "    \"betas\": [\n",
      "      0,\n",
      "      0.99\n",
      "    ],\n",
      "    \"eps\": 1e-08,\n",
      "    \"lr\": 0.002\n",
      "  },\n",
      "  \"loss_kwargs\": {\n",
      "    \"class_name\": \"training.loss.StyleGAN2Loss\",\n",
      "    \"r1_gamma\": 6.6,\n",
      "    \"blur_init_sigma\": 0,\n",
      "    \"blur_fade_kimg\": 200.0\n",
      "  },\n",
      "  \"data_loader_kwargs\": {\n",
      "    \"pin_memory\": true,\n",
      "    \"prefetch_factor\": 2,\n",
      "    \"num_workers\": 3\n",
      "  },\n",
      "  \"training_set_kwargs\": {\n",
      "    \"class_name\": \"training.dataset.ImageFolderDataset\",\n",
      "    \"path\": \"/home/YiVal_test/metfacesu\",\n",
      "    \"use_labels\": false,\n",
      "    \"max_size\": 1336,\n",
      "    \"xflip\": true,\n",
      "    \"resolution\": 1024,\n",
      "    \"random_seed\": 0\n",
      "  },\n",
      "  \"num_gpus\": 1,\n",
      "  \"batch_size\": 32,\n",
      "  \"batch_gpu\": 4,\n",
      "  \"metrics\": [\n",
      "    \"fid50k_full\"\n",
      "  ],\n",
      "  \"total_kimg\": 5000,\n",
      "  \"kimg_per_tick\": 4,\n",
      "  \"image_snapshot_ticks\": 5,\n",
      "  \"network_snapshot_ticks\": 5,\n",
      "  \"random_seed\": 0,\n",
      "  \"ema_kimg\": 10.0,\n",
      "  \"augment_kwargs\": {\n",
      "    \"class_name\": \"training.augment.AugmentPipe\",\n",
      "    \"xflip\": 1,\n",
      "    \"rotate90\": 1,\n",
      "    \"xint\": 1,\n",
      "    \"scale\": 1,\n",
      "    \"rotate\": 1,\n",
      "    \"aniso\": 1,\n",
      "    \"xfrac\": 1,\n",
      "    \"brightness\": 1,\n",
      "    \"contrast\": 1,\n",
      "    \"lumaflip\": 1,\n",
      "    \"hue\": 1,\n",
      "    \"saturation\": 1\n",
      "  },\n",
      "  \"ada_target\": 0.6,\n",
      "  \"resume_pkl\": \"https://api.ngc.nvidia.com/v2/models/nvidia/research/stylegan3/versions/1/files/stylegan3-r-ffhqu-1024x1024.pkl\",\n",
      "  \"ada_kimg\": 100,\n",
      "  \"ema_rampup\": null,\n",
      "  \"run_dir\": \"~/training-runs/00004-stylegan3-r-metfacesu-gpus1-batch32-gamma6.6\"\n",
      "}\n",
      "\n",
      "Output directory:    ~/training-runs/00004-stylegan3-r-metfacesu-gpus1-batch32-gamma6.6\n",
      "Number of GPUs:      1\n",
      "Batch size:          32 images\n",
      "Training duration:   5000 kimg\n",
      "Dataset path:        /home/YiVal_test/metfacesu\n",
      "Dataset size:        1336 images\n",
      "Dataset resolution:  1024\n",
      "Dataset labels:      False\n",
      "Dataset x-flips:     True\n",
      "\n",
      "Creating output directory...\n",
      "Launching processes...\n",
      "Loading training set...\n",
      "/home/YiVal_test/.cache/pypoetry/virtualenvs/yival-0EQAwXAc-py3.10/lib/python3.10/site-packages/torch/utils/data/sampler.py:64: UserWarning: `data_source` argument is not used and will be removed in 2.2.0.You may still have custom implementation that utilizes it.\n",
      "  warnings.warn(\"`data_source` argument is not used and will be removed in 2.2.0.\"\n",
      "\n",
      "Num images:  2672\n",
      "Image shape: [3, 1024, 1024]\n",
      "Label shape: [0]\n",
      "\n",
      "Constructing networks...\n",
      "Resuming from \"https://api.ngc.nvidia.com/v2/models/nvidia/research/stylegan3/versions/1/files/stylegan3-r-ffhqu-1024x1024.pkl\"\n",
      "Setting up PyTorch plugin \"bias_act_plugin\"... Done.\n",
      "Setting up PyTorch plugin \"filtered_lrelu_plugin\"... Done.\n",
      "\n",
      "Generator                      Parameters  Buffers  Output shape          Datatype\n",
      "---                            ---         ---      ---                   ---     \n",
      "mapping.fc0                    262656      -        [4, 512]              float32 \n",
      "mapping.fc1                    262656      -        [4, 512]              float32 \n",
      "mapping                        -           512      [4, 16, 512]          float32 \n",
      "synthesis.input.affine         2052        -        [4, 4]                float32 \n",
      "synthesis.input                1048576     3081     [4, 1024, 36, 36]     float32 \n",
      "synthesis.L0_36_1024.affine    525312      -        [4, 1024]             float32 \n",
      "synthesis.L0_36_1024           1049600     157      [4, 1024, 36, 36]     float32 \n",
      "synthesis.L1_36_1024.affine    525312      -        [4, 1024]             float32 \n",
      "synthesis.L1_36_1024           1049600     157      [4, 1024, 36, 36]     float32 \n",
      "synthesis.L2_52_1024.affine    525312      -        [4, 1024]             float32 \n",
      "synthesis.L2_52_1024           1049600     169      [4, 1024, 52, 52]     float32 \n",
      "synthesis.L3_52_1024.affine    525312      -        [4, 1024]             float32 \n",
      "synthesis.L3_52_1024           1049600     157      [4, 1024, 52, 52]     float32 \n",
      "synthesis.L4_84_1024.affine    525312      -        [4, 1024]             float32 \n",
      "synthesis.L4_84_1024           1049600     169      [4, 1024, 84, 84]     float32 \n",
      "synthesis.L5_148_1024.affine   525312      -        [4, 1024]             float32 \n",
      "synthesis.L5_148_1024          1049600     169      [4, 1024, 148, 148]   float16 \n",
      "synthesis.L6_148_1024.affine   525312      -        [4, 1024]             float32 \n",
      "synthesis.L6_148_1024          1049600     157      [4, 1024, 148, 148]   float16 \n",
      "synthesis.L7_276_645.affine    525312      -        [4, 1024]             float32 \n",
      "synthesis.L7_276_645           661125      169      [4, 645, 276, 276]    float16 \n",
      "synthesis.L8_276_406.affine    330885      -        [4, 645]              float32 \n",
      "synthesis.L8_276_406           262276      157      [4, 406, 276, 276]    float16 \n",
      "synthesis.L9_532_256.affine    208278      -        [4, 406]              float32 \n",
      "synthesis.L9_532_256           104192      169      [4, 256, 532, 532]    float16 \n",
      "synthesis.L10_1044_161.affine  131328      -        [4, 256]              float32 \n",
      "synthesis.L10_1044_161         41377       169      [4, 161, 1044, 1044]  float16 \n",
      "synthesis.L11_1044_102.affine  82593       -        [4, 161]              float32 \n",
      "synthesis.L11_1044_102         16524       157      [4, 102, 1044, 1044]  float16 \n",
      "synthesis.L12_1044_64.affine   52326       -        [4, 102]              float32 \n",
      "synthesis.L12_1044_64          6592        25       [4, 64, 1044, 1044]   float16 \n",
      "synthesis.L13_1024_64.affine   32832       -        [4, 64]               float32 \n",
      "synthesis.L13_1024_64          4160        25       [4, 64, 1024, 1024]   float16 \n",
      "synthesis.L14_1024_3.affine    32832       -        [4, 64]               float32 \n",
      "synthesis.L14_1024_3           195         1        [4, 3, 1024, 1024]    float16 \n",
      "synthesis                      -           -        [4, 3, 1024, 1024]    float32 \n",
      "---                            ---         ---      ---                   ---     \n",
      "Total                          15093151    5600     -                     -       \n",
      "\n",
      "Setting up PyTorch plugin \"upfirdn2d_plugin\"... Done.\n",
      "\n",
      "Discriminator  Parameters  Buffers  Output shape         Datatype\n",
      "---            ---         ---      ---                  ---     \n",
      "b1024.fromrgb  128         16       [4, 32, 1024, 1024]  float16 \n",
      "b1024.skip     2048        16       [4, 64, 512, 512]    float16 \n",
      "b1024.conv0    9248        16       [4, 32, 1024, 1024]  float16 \n",
      "b1024.conv1    18496       16       [4, 64, 512, 512]    float16 \n",
      "b1024          -           16       [4, 64, 512, 512]    float16 \n",
      "b512.skip      8192        16       [4, 128, 256, 256]   float16 \n",
      "b512.conv0     36928       16       [4, 64, 512, 512]    float16 \n",
      "b512.conv1     73856       16       [4, 128, 256, 256]   float16 \n",
      "b512           -           16       [4, 128, 256, 256]   float16 \n",
      "b256.skip      32768       16       [4, 256, 128, 128]   float16 \n",
      "b256.conv0     147584      16       [4, 128, 256, 256]   float16 \n",
      "b256.conv1     295168      16       [4, 256, 128, 128]   float16 \n",
      "b256           -           16       [4, 256, 128, 128]   float16 \n",
      "b128.skip      131072      16       [4, 512, 64, 64]     float16 \n",
      "b128.conv0     590080      16       [4, 256, 128, 128]   float16 \n",
      "b128.conv1     1180160     16       [4, 512, 64, 64]     float16 \n",
      "b128           -           16       [4, 512, 64, 64]     float16 \n",
      "b64.skip       262144      16       [4, 512, 32, 32]     float32 \n",
      "b64.conv0      2359808     16       [4, 512, 64, 64]     float32 \n",
      "b64.conv1      2359808     16       [4, 512, 32, 32]     float32 \n",
      "b64            -           16       [4, 512, 32, 32]     float32 \n",
      "b32.skip       262144      16       [4, 512, 16, 16]     float32 \n",
      "b32.conv0      2359808     16       [4, 512, 32, 32]     float32 \n",
      "b32.conv1      2359808     16       [4, 512, 16, 16]     float32 \n",
      "b32            -           16       [4, 512, 16, 16]     float32 \n",
      "b16.skip       262144      16       [4, 512, 8, 8]       float32 \n",
      "b16.conv0      2359808     16       [4, 512, 16, 16]     float32 \n",
      "b16.conv1      2359808     16       [4, 512, 8, 8]       float32 \n",
      "b16            -           16       [4, 512, 8, 8]       float32 \n",
      "b8.skip        262144      16       [4, 512, 4, 4]       float32 \n",
      "b8.conv0       2359808     16       [4, 512, 8, 8]       float32 \n",
      "b8.conv1       2359808     16       [4, 512, 4, 4]       float32 \n",
      "b8             -           16       [4, 512, 4, 4]       float32 \n",
      "b4.mbstd       -           -        [4, 513, 4, 4]       float32 \n",
      "b4.conv        2364416     16       [4, 512, 4, 4]       float32 \n",
      "b4.fc          4194816     -        [4, 512]             float32 \n",
      "b4.out         513         -        [4, 1]               float32 \n",
      "---            ---         ---      ---                  ---     \n",
      "Total          29012513    544      -                    -       \n",
      "\n",
      "Setting up augmentation...\n",
      "Distributing across 1 GPUs...\n",
      "Setting up training phases...\n",
      "Exporting sample images...\n",
      "Initializing logs...\n",
      "Training for 5000 kimg...\n",
      "\n",
      "tick 0     kimg 0.0      time 1m 46s       sec/tick 66.6    sec/kimg 2080.73 maintenance 39.3   cpumem 6.53   gpumem 13.01  reserved 14.52  augment 0.000\n",
      "Evaluating metrics...\n"
     ]
    }
   ],
   "source": [
    "! python /home/YiVal_test/stylegan3/train.py --outdir=~/training-runs --cfg=stylegan3-r --data=/home/YiVal_test/metfacesu \\\n",
    "--gpus=1 --batch=32 --batch-gpu=4 --gamma=6.6 --mirror=1 --kimg=5000 --snap=5 --resume=https://api.ngc.nvidia.com/v2/models/nvidia/research/stylegan3/versions/1/files/stylegan3-r-ffhqu-1024x1024.pkl"
   ]
  },
  {
   "cell_type": "code",
   "execution_count": null,
   "metadata": {},
   "outputs": [],
   "source": []
  }
 ],
 "metadata": {
  "kernelspec": {
   "display_name": "py310_foryival",
   "language": "python",
   "name": "py310_foryival"
  },
  "language_info": {
   "codemirror_mode": {
    "name": "ipython",
    "version": 3
   },
   "file_extension": ".py",
   "mimetype": "text/x-python",
   "name": "python",
   "nbconvert_exporter": "python",
   "pygments_lexer": "ipython3",
   "version": "3.10.13"
  }
 },
 "nbformat": 4,
 "nbformat_minor": 2
}
